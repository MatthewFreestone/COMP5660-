{
 "cells": [
  {
   "cell_type": "markdown",
   "id": "6a1aad1b",
   "metadata": {},
   "source": [
    "# Assignment 2b Notebook: Automated Design of AI Agents with Genetic Programming\n",
    "This notebook will guide you through the process of implementing genetic programming (GP). This assignment will utilize components you implemented previously during Assignment Series 1, as well as the parse trees you implemented during Assignment 2a. From your previous assignments, copy over the most recent versions of the following files:\n",
    "* `base_evolution.py`\n",
    "* `selection.py`\n",
    "* `tree_genotype.py`\n",
    "\n",
    "**If you implemented your parse trees in a separate file, copy that file over as well.** In addition, you will need to import this file in the following code cell.\n",
    "\n",
    "As usual, be careful not to overwrite any of the other provided files, as we may have modified them between assignments. Make sure you are in the `EC-env` environment. If you are not, terminate the notebook server, run `conda activate EC-env`, and restart the notebook server.\n",
    "\n",
    "To begin the assignment, execute the following cell."
   ]
  },
  {
   "cell_type": "code",
   "execution_count": null,
   "id": "3ab84990",
   "metadata": {},
   "outputs": [],
   "source": [
    "# Configure this notebook to automatically reload modules as they're modified\n",
    "# https://stackoverflow.com/questions/1907993/autoreload-of-modules-in-ipython\n",
    "%load_ext autoreload\n",
    "%autoreload 2\n",
    "\n",
    "!pip install snake-eyes-parser\n",
    "!pip install pytest\n",
    "\n",
    "import warnings\n",
    "warnings.filterwarnings('ignore') # hopefully stop any pedantic warnings\n",
    "\n",
    "import matplotlib.pyplot as plt\n",
    "\n",
    "%matplotlib inline\n",
    "plt.rcParams['figure.figsize'] = (12.0, 12.0) # set default size of plots\n",
    "plt.rcParams['image.interpolation'] = 'nearest'\n",
    "\n",
    "import os\n",
    "import statistics\n",
    "from scipy import stats\n",
    "from snake_eyes import read_config\n",
    "from fitness import play_GPac\n",
    "from tree_genotype import *\n",
    "from selection import *\n",
    "from gpac_population_evaluation import *\n",
    "from genetic_programming import *\n",
    "from base_evolution import *\n",
    "\n",
    "print('The first cell has been executed!')"
   ]
  },
  {
   "cell_type": "markdown",
   "id": "bab68443",
   "metadata": {},
   "source": [
    "## Recombination\n",
    "Assuming you've correctly implemented population initialization in Assignment 2a, we'll begin this assignment by implementing recombination with subtree crossover. Like Assignment Series 1, your recombination method should take a mate as input and recombine the `genes` members of `self` and `mate`, assign the recombined tree to the `genes` member variable of `child`, and then return `child`.\n",
    "\n",
    "Recall that this assignment series involves a configurable maximum depth, specified in the config files, and this applies to children produced with recombination and mutation. How you do this is up to you, but you must guarantee that the children your algorithms produce do not go beyond the configured max depth.\n",
    "\n",
    "How you implement subtree crossover in practice depends on your implementation of the parse tree genotype and is thus open-ended. Implement the `TreeGenotype.recombine` function in `tree_genotype.py`, then test your implementation by executing the following cell. This cell will use the same tree checker as Assignment 2a to verify that your trees are structurally correct."
   ]
  },
  {
   "cell_type": "code",
   "execution_count": null,
   "id": "73aebb72",
   "metadata": {},
   "outputs": [],
   "source": [
    "config = read_config('configs/2b_green_config.txt', globals(), locals())\n",
    "\n",
    "# Initialize a population of 100 individuals.\n",
    "population = TreeGenotype.initialization(100, **config['problem'])\n",
    "\n",
    "# Perform recombination to make 50 children.\n",
    "children = list()\n",
    "for idx in range(0, len(population), 2):\n",
    "    child = population[idx].recombine(population[idx+1], **config['problem'])\n",
    "    children.append(child)\n",
    "\n",
    "# Save the child trees to files.\n",
    "os.makedirs('tree_tests/', exist_ok=True)\n",
    "for idx, individual in enumerate(children):\n",
    "    with open(f'tree_tests/tree{idx}r.txt', 'w') as f:\n",
    "        f.write(individual.to_string())\n",
    "\n",
    "!python tree_check.py tree_tests/tree*r.txt\n",
    "\n",
    "del config, population, children"
   ]
  },
  {
   "cell_type": "markdown",
   "id": "73b802db",
   "metadata": {},
   "source": [
    "## Mutation\n",
    "Using your parse tree genotype, implement mutation in `TreeGenotype.mutate` and test your implementation by executing the next cell. You can use the grow method that you implemented in the previous assignment to grow a new subtree, replacing an existing randomly-selected subtree. This is called *subtree mutation* in GP literature. Note that you should make sure you don't select the root, which would cause you to grow an entirely new tree. And don't forget to enforce max tree depth like in recombination!\n",
    "\n",
    "You can also implement mutation in a number of other ways. Particularly, *point mutation* is also common in GP literature and is typically regarded as a performant GP mutation method. In context of the trees we're using here, this would be comparable to a random reset for a small number of the primitives in the tree without modifying the tree structure. That is, you could pick some (preferably small) subset of the nodes in a tree, then randomly select a new primitive for each of the selected nodes (but make sure that terminal nodes stay terminal nodes, and nonterminal nodes stay nonterminal nodes)."
   ]
  },
  {
   "cell_type": "code",
   "execution_count": null,
   "id": "352638f6",
   "metadata": {},
   "outputs": [],
   "source": [
    "config = read_config('configs/2b_green_config.txt', globals(), locals())\n",
    "\n",
    "# Initialize a population of 50 individuals.\n",
    "population = TreeGenotype.initialization(50, **config['problem'])\n",
    "\n",
    "# Perform mutation to make 50 children.\n",
    "children = list()\n",
    "for idx in range(len(population)):\n",
    "    child = population[idx].mutate(**config['problem'])\n",
    "    children.append(child)\n",
    "\n",
    "# Save the child trees to files.\n",
    "os.makedirs('tree_tests/', exist_ok=True)\n",
    "for idx, individual in enumerate(children):\n",
    "    with open(f'tree_tests/tree{idx}m.txt', 'w') as f:\n",
    "        f.write(individual.to_string())\n",
    "\n",
    "!python tree_check.py tree_tests/tree*m.txt\n",
    "\n",
    "del config, population, children"
   ]
  },
  {
   "cell_type": "markdown",
   "id": "9b505608",
   "metadata": {},
   "source": [
    "## Implementing Genetic Programming\n",
    "By this point, you should have a complete implementation of your genotype and we can turn our attention to implementing the complete GP algorithm.\n",
    "\n",
    "### Evaluation and Parsimony Pressure\n",
    "Recall from the lecture and videos by Dr. Koza that tree GP, using the recombination and mutation methods we have implemented here, tends to produce larger and larger trees. Therefore, most GP implementations provide some mechanism to discourage this \"bloat\".\n",
    "\n",
    "You will implement a parsimony penalty to discourage your GP from producing unnecessarily large trees (in addition to the depth limit you already have). This parsimony pressure mechanism penalizes the fitness of a solution based on its size. We will apply this using a very similar calculation to the penalty function in Assignment 1c, using the size of the tree rather than a number of constraint violations:\n",
    "\n",
    "`fitness = base_fitness - size * parsimony_coefficient`\n",
    "\n",
    "Where `base_fitness` is the solution's fitness according to the fitness function, `size` is some measure of the tree's size, `parsimony_coefficient` is from your config file, and `fitness` is the penalized fitness. The two most obvious metrics of tree size are max depth and node count, but you are encouraged to experiment with different metrics.\n",
    "\n",
    "Just like Assignment 1c, **it is not meaningful to compare penalized fitness with unpenalized fitness**. We require that you use base fitness for your analysis, and penalized fitness for evolution (which will happen automatically if you store this in the `fitness` member variable, just like in Assignment 1c).\n",
    "\n",
    "In the file `gpac_population_evaluation.py`, implement the `base_population_evaluation` function that performs fitness evaluations on an input population and assigns the `base_fitness`, parsimony-penalized `fitness`, and `log` members to each individual. Then, test your implementation by executing the following cell."
   ]
  },
  {
   "cell_type": "code",
   "execution_count": null,
   "id": "2d158b06",
   "metadata": {},
   "outputs": [],
   "source": [
    "config = read_config('configs/2b_green_config.txt', globals(), locals())\n",
    "\n",
    "# Initialize a population.\n",
    "population = TreeGenotype.initialization(100, **config['problem'])\n",
    "\n",
    "# Note explicitly initializing to None is unnecessary in general.\n",
    "# We only do it here to test that you've actually set these values.\n",
    "for individual in population:\n",
    "    individual.fitness = None\n",
    "    individual.base_fitness = None\n",
    "    individual.log = None\n",
    "\n",
    "# Calling your function to test things out.\n",
    "base_population_evaluation(population, **config['fitness_kwargs'], **config['game'])\n",
    "\n",
    "missing = len([True for individual in population if individual.fitness is None])\n",
    "base_missing = len([True for individual in population if individual.base_fitness is None])\n",
    "log_missing = len([True for individual in population if individual.log is None])\n",
    "\n",
    "if missing or base_missing or log_missing:\n",
    "    print('Some individuals had some members left unassigned.')\n",
    "    print('Make sure you assign all required members to all individuals, then run this cell again.')\n",
    "    print('Individuals with unassigned (penalized) fitness:', missing)\n",
    "    print('Individuals with unassigned base fitness:', base_missing)\n",
    "    print('Individuals with unassigned log:', log_missing)\n",
    "\n",
    "else:\n",
    "    fitnesses = [individual.fitness for individual in example_population]\n",
    "    print('Average fitness of population:', statistics.mean(fitnesses))\n",
    "    print('Best fitness in population:' max(fitnesses))\n",
    "    base_fitnesses = [individual.base_fitness for individual in example_population]\n",
    "    print('Average unpenalized (base) fitness of population:', statistics.mean(base_fitnesses))\n",
    "    print('Best unpenalized (base) fitness in population:', max(base_fitnesses))\n",
    "\n",
    "    best_log = max(population, key=lambda ind:ind.base_fitness).log\n",
    "    game_log_path = 'example_game.txt'\n",
    "    with open(game_log_path, 'w') as f:\n",
    "        [f.write(f'{line}\\n') for line in best_log]\n",
    "    print('The log of the most fit individual was written to', game_log_path)\n",
    "    \n",
    "    del fitnesses, base_fitnesses, best_log\n",
    "\n",
    "del config, population, missing, base_missing, log_missing"
   ]
  },
  {
   "cell_type": "markdown",
   "id": "cbe93122",
   "metadata": {},
   "source": [
    "### Child Generation\n",
    "With fitness evaluation implemented, you can now implement child generation within the `GeneticProgrammingPopulation` class. This class inherits from the `BaseEvolutionPopulation` class you used in Assignment Series 1, and will use the inherited initialization and survival selection methods without modification. The only method that you need to implement, then, is `generate_children`. This will override the same method in the base class.\n",
    "\n",
    "Recall that, typically, mutation in GP is mutually exclusive with recombination. That is, mutation in GP is usually used to directly produce children by mutating a copy of the parent. Therefore, you need to implement a GP-specific version of `generate_children` in the `GeneticProgrammingPopulation` class, which will override the version you previously implemented. The implementation should be broadly similar, except that you need to decide whether or not an individual should be mutated (rather than recombined) before recombination occurs, and either do one or the other (but not both).\n",
    "\n",
    "Once complete, test your implementation using the following cell, which will initialize your EA, as well as making one generation of children."
   ]
  },
  {
   "cell_type": "code",
   "execution_count": null,
   "id": "d11352eb",
   "metadata": {},
   "outputs": [],
   "source": [
    "config = read_config('configs/2b_green_config.txt', globals(), locals())\n",
    "\n",
    "# Full initialization of your GP population.\n",
    "example_ea = GeneticProgrammingPopulation(**config['ea'], **config)\n",
    "\n",
    "# Evaluate the initial population.\n",
    "base_population_evaluation(example_ea.population, **config['fitness_kwargs'], **config['game'])\n",
    "example_ea.evaluations = len(example_ea.population)\n",
    "\n",
    "# Print statements for tutorialization.\n",
    "print('Number of fitness evaluations:', example_ea.evaluations)\n",
    "fitnesses = [individual.fitness for individual in example_ea.population]\n",
    "print('Average fitness of population:', statistics.mean(fitnesses))\n",
    "print('Best fitness in population:', max(fitnesses))\n",
    "base_fitnesses = [individual.base_fitness for individual in example_ea.population]\n",
    "print('Average unpenalized (base) fitness of population:', statistics.mean(base_fitnesses))\n",
    "print('Best unpenalized (base) fitness in population:', max(base_fitnesses))\n",
    "\n",
    "# Make a generation of children.\n",
    "children = example_ea.generate_children()\n",
    "\n",
    "# Evaluate the children.\n",
    "base_population_evaluation(children, **config['fitness_kwargs'], **config['game'])\n",
    "example_ea.evaluations += len(children)\n",
    "\n",
    "# Print statements for tutorialization.\n",
    "print('Number of fitness evaluations:', example_ea.evaluations)\n",
    "child_fitnesses = [individual.fitness for individual in children]\n",
    "print('Average fitness of children:', statistics.mean(child_fitnesses))\n",
    "print('Best fitness in children:', max(child_fitnesses))\n",
    "base_child_fitnesses = [individual.base_fitness for individual in children]\n",
    "print('Average unpenalized (base) fitness of children:', statistics.mean(base_child_fitnesses))\n",
    "print('Best unpenalized (base) fitness in children:', max(base_child_fitnesses))\n",
    "\n",
    "# Print children trees to files.\n",
    "os.makedirs('tree_tests/', exist_ok=True)\n",
    "for idx, individual in enumerate(children):\n",
    "    with open(f'tree_tests/tree{idx}c.txt', 'w') as f:\n",
    "        f.write(individual.to_string())\n",
    "\n",
    "!python tree_check.py tree_tests/tree*c.txt\n",
    "\n",
    "del config, example_ea, children, fitnesses, base_fitnesses, child_fitnesses, base_child_fitnesses"
   ]
  },
  {
   "cell_type": "markdown",
   "id": "88f073c8",
   "metadata": {},
   "source": [
    "## Single Run Experiment\n",
    "At this point, you should have everything you need to implement a full GP search to evolve GPac controllers! Now put all the components together and implement a function to conduct a single full run in the next cell.\n",
    "\n",
    "**Note**: Just like in Assignment 2a, you should consider that the game logs (now stored in the `TreeGenotype.log` member variable) can consume a large amount of memory. As a result, it may be a good idea to manually remove logs from individuals that you know will not be necessary for analysis (i.e., anyone except the global-best individual). The following code should suffice for the GREEN and YELLOW deliverables, but may not be applicable for some of the RED deliverables:\n",
    "\n",
    "```py\n",
    "best_individual = None\n",
    "for individual in population:\n",
    "    if best_individual is None:\n",
    "        best_individual = individual\n",
    "    elif individual.base_fitness > best_individual.base_fitness:\n",
    "        del best_individual.log\n",
    "        best_individual = individual\n",
    "    elif individual.base_fitness < best_individual.base_fitness:\n",
    "        del individual.log\n",
    "```"
   ]
  },
  {
   "cell_type": "code",
   "execution_count": null,
   "id": "824c0bbe",
   "metadata": {},
   "outputs": [],
   "source": [
    "def genetic_programming_search(number_evaluations, config_filename):\n",
    "    # Parse the config and implement your GP search here.\n",
    "    # Feel free to focus on implementation first and then return for data collection.\n",
    "\n",
    "\n",
    "    # Return whatever data you wish!\n",
    "    return None\n",
    "\n",
    "# Calling your function to test things out.\n",
    "print(genetic_programming_search(50, 'configs/2b_green_config.txt'))"
   ]
  },
  {
   "cell_type": "markdown",
   "id": "0820444e",
   "metadata": {},
   "source": [
    "## Tuning\n",
    "As is the case with all EAs, tuning your GP algorithm is very important for good performance! In this case, it's also a graded component of the Algorithmic section of this assignment. Like Assignment 1b, you are expected to tune your algorithm parameters such that your full GP search outperforms the random search used in Assignment 2a (note that the default parameters are intentionally bad). As was the case with Assignment 1b, hand-tuning your parameters using a couple runs at a time is good enough for this class. While tuning, it can be helpful to ask yourself the following:\n",
    " * How many generations of evolution will occur based on $\\mu$ and $\\lambda$? Is this enough generations for evolution to find good solutions?\n",
    " * Is premature convergence occuring (e.g., max fitness stops increasing at a mediocre value)?\n",
    " * Is a loss of diversity preventing improvement (e.g., mean and best fitness converge to very similar values)?\n",
    " * Have the problem instance or search space parameters been manipulated in a way that invalidates a comparison with ramped half-and-half (i.e., avoid manipulating the game parameters and tree depth limits)?\n",
    " * Is the parsimony coefficient tuned well? (Note: you'll need to consider this explicitly if attempting the YELLOW deliverable)\n",
    "\n",
    "Use the following cell to tune your parameters. Make sure to include the changes to your config in your final submission!"
   ]
  },
  {
   "cell_type": "code",
   "execution_count": null,
   "id": "a7d57bfd",
   "metadata": {},
   "outputs": [],
   "source": [
    "# Feel free to change these values and re-run this cell as much as you'd like\n",
    "number_runs = 3\n",
    "number_evaluations = 5000\n",
    "config_filename = 'configs/2b_green_config.txt'\n",
    "\n",
    "# Tuning runs can be called here\n"
   ]
  },
  {
   "cell_type": "markdown",
   "id": "d5f3fbce",
   "metadata": {},
   "source": [
    "## Multi-Run Experiments\n",
    "Implement a full 10-run experiment with 5,000 fitness evaluations per run. For each generation, including the initial population, log the average and best fitness and base fitness of the current population (so, 4 values in total) along with the evaluation count. For each run, log the global best base fitness encountered for statistical analysis. For the individual with the global best base fitness from each run, log the parse tree and game log for later analysis."
   ]
  },
  {
   "cell_type": "code",
   "execution_count": null,
   "id": "88d0a1fb",
   "metadata": {},
   "outputs": [],
   "source": [
    "number_runs = 10\n",
    "number_evaluations = 5000\n",
    "config_filename = 'configs/2b_green_config.txt'\n",
    "\n",
    "# Implement your 10-run experiment here\n",
    "\n",
    "# Assign your EA's log member variables here\n",
    "# It should be a list containing the log from the EA in each run\n",
    "run_logs = None\n",
    "\n",
    "# Writing the logs to files\n",
    "os.makedirs('data/2b/green/logs/', exist_ok=True)\n",
    "for i in range(len(run_logs)):\n",
    "    with open('data/2b/green/logs/' + str(i+1) + '.txt', 'w') as f:\n",
    "        f.write(''.join([entry + '\\n' for entry in run_logs[i]]))\n",
    "\n",
    "# Assign your data for statistical analysis to this variable\n",
    "# It should be a list of the highest fitness values seen per run\n",
    "stats_data = None\n",
    "\n",
    "# Writing your statistical data to a file\n",
    "with open('data/2b/green/statistics.txt', 'w') as f:\n",
    "    for result in stats_data:\n",
    "        f.write(str(result) + '\\n')"
   ]
  },
  {
   "cell_type": "markdown",
   "id": "4b015188",
   "metadata": {},
   "source": [
    "## Report\n",
    "Now you should have the data required to complete the report described in the assignment document. There are components of the report you need to complete independently, but this notebook will walk you through plotting and statistical analysis.\n",
    "\n",
    "### Statistical Analysis\n",
    "Statistical analysis should consist of a comparison between global best per-run **base** fitness values of your GP searches with the data you generated during your experiment in Assignment 2a. That data should have been saved in your Assignment 2a repository under `data/2a/green/statistics.txt`. If you have not already done so, copy that file to this assignment's `data` subdirectory. Then you can run the below cell and interpret the results. Recall that we specify $\\alpha = 0.05$ for these tests."
   ]
  },
  {
   "cell_type": "code",
   "execution_count": null,
   "id": "13f2e749",
   "metadata": {},
   "outputs": [],
   "source": [
    "with open('data/2b/green/statistics.txt', 'r') as f:\n",
    "    gp_data = [float(line) for line in f.readlines()]\n",
    "\n",
    "print('2b data mean:', statistics.mean(gp_data))\n",
    "print('2b data stdv:', statistics.stdev(gp_data))\n",
    "\n",
    "# Reading the data from your 2a experiment\n",
    "with open('data/2a/green/statistics.txt', 'r') as f:\n",
    "    random_data = [float(line) for line in f.readlines()]\n",
    "\n",
    "print('2a data mean:', statistics.mean(random_data))\n",
    "print('2a data stdv:', statistics.stdev(random_data))\n",
    "\n",
    "test_result = stats.ttest_ind(random_data, gp_data, equal_var=False)\n",
    "print('p-value:', test_result.pvalue)"
   ]
  },
  {
   "cell_type": "markdown",
   "id": "aa406e42",
   "metadata": {},
   "source": [
    "### Evals-vs-fitness Plot\n",
    "Using the data you've collected from your 10 run experiment, analyze your fitness values to find the mean and maximum fitness and base fitness at each generation averaged over your 10 runs, as you should have done several times now.\n",
    "\n",
    "Using this data, plot the number of evaluations (not generations) versus the mean and maximum fitness and base fitness averaged over 10 runs. The following cell has code to generate the plot, but you need to calculate and set the x and y values appropriately."
   ]
  },
  {
   "cell_type": "code",
   "execution_count": null,
   "id": "1125d96b",
   "metadata": {},
   "outputs": [],
   "source": [
    "'''\n",
    "Store the y-values for mean fitness in average_penalized_means,\n",
    "and the y-values for best fitness in average_penalized_maxes.\n",
    "Do similar for average_base_means and average_base_maxes.\n",
    "x-values should represent the number of **evaluations**, NOT **generations**.\n",
    "Store the evaluation counts in the evals variable.\n",
    "'''\n",
    "average_penalized_means = None\n",
    "average_penalized_maxes = None\n",
    "average_base_means = None\n",
    "average_base_maxes = None\n",
    "evals = None\n",
    "\n",
    "fig, ax = plt.subplots()\n",
    "ax.plot(evals, average_penalized_maxes, 'g-')\n",
    "ax.plot(evals, average_penalized_means, 'g--')\n",
    "ax.plot(evals, average_base_maxes, 'b-')\n",
    "ax.plot(evals, average_base_means, 'b--')\n",
    "ax.set(xlabel = 'Evaluations', ylabel = 'Fitness',\\\n",
    "       title = '2b Green Experiment: Evaluations vs Population Fitness Averaged Across 10 Runs')\n",
    "ax.legend(['Max Penalized Fitness', 'Mean Penalized Fitness', 'Max Base Fitness', 'Mean Base Fitness'])\n",
    "plt.show()"
   ]
  },
  {
   "cell_type": "markdown",
   "id": "9ba0ba4a",
   "metadata": {},
   "source": [
    "# YELLOW Deliverable\n",
    "Now that you've completed the GREEN deliverable and conducted an experiment with one choice of parsimony metric (most likely max depth or node count), experiment with a different metric and re-tune the parsimony coefficient. You are welcome to reuse the other parameters you used in your GREEN configuration, but some attempt at tuning the parsimony coefficient to account for the new parsimony metric is required. Implement your new parsimony calculation in the `base_population_evaluation` function under the `yellow` section.\n",
    "\n",
    "Use the following 2 cells to tune and conduct a 10-run experiment, respectively. Add more cells below these for your analysis, if necessary."
   ]
  },
  {
   "cell_type": "code",
   "execution_count": null,
   "id": "fd1fc69c",
   "metadata": {},
   "outputs": [],
   "source": [
    "# Feel free to change these values and re-run this cell as much as you'd like\n",
    "number_runs = 3\n",
    "number_evaluations = 5000\n",
    "config_filename = 'configs/2b_yellow_config.txt'\n",
    "\n",
    "# Tuning runs can be called here\n"
   ]
  },
  {
   "cell_type": "code",
   "execution_count": null,
   "id": "98d633fa",
   "metadata": {},
   "outputs": [],
   "source": [
    "number_runs = 10\n",
    "number_evaluations = 5000\n",
    "config_filename = 'configs/2b_yellow_config.txt'\n",
    "\n",
    "# Implement your 30-run experiment here\n"
   ]
  },
  {
   "cell_type": "markdown",
   "id": "03ede87f",
   "metadata": {},
   "source": [
    "# RED Deliverables (Bonus)\n",
    "Bonus RED deliverables are typically somewhat open-ended, but this is particularly true in Assignment Series 2. As such, you may encounter unanticipated design decisions and obstacles that you should figure out how to overcome. TA assistance is available to answer questions, though you are expected to experiment and investigate solutions/answers prior to seeking this assistance. You are welcome to re-use tuned parameters between these experiments instead of conducting more rigorous tuning, though you may observe more interesting results with per-deliverable tuning.\n",
    "\n",
    "For each RED deliverable you attempt, **do not overwrite or break compatibility with your previous experimentation**: create a new notebook cell below, create a new config file, and implement the relevant section in the `base_population_evaluation` function."
   ]
  },
  {
   "cell_type": "code",
   "execution_count": null,
   "id": "33217d51",
   "metadata": {},
   "outputs": [],
   "source": []
  },
  {
   "cell_type": "markdown",
   "id": "00547606",
   "metadata": {},
   "source": [
    "# Side Note: Canonical Genetic Programming\n",
    "Should you apply GP after this class, you should know that the GP algorithm taught in this class (as described in the course textbook) differs somewhat from the algorithm canonically used in GP. Notably, the textbook has certain important omissions regarding the Ramped Half-and-half algorithm and the GP evolutionary cycle. In practice, the Ramped Half-and-half algorithm uses a `grow` method which ensures at least 1 branch reaches the depth limit. This can be difficult to implement, and has little impact on this assignment, so we don't require the implementation of the canonical version of the algorithm.\n",
    "\n",
    "More importantly, however, is that the canonical GP evolutionary cycle is generational in nature. In the canonical Generational GP algorithm, $\\mu$ children are created each generation via recombination, mutation, or *reproduction* and the children directly replace the parents without survival selection. Notably, the reproduction operation involves directly copying the selected parent to the children pool and this enables behavior similar to the steady-state survival of a $(\\mu + \\lambda)$-EA. The algorithm you implement for this assignment series is much more similar to a Genetic Algorithm in nature and you should be aware of this distinction if you continue to work with GP. For more information, see [here](https://geneticprogramming.com/about-gp/gp-workflow/)."
   ]
  }
 ],
 "metadata": {
  "kernelspec": {
   "display_name": "Python 3 (ipykernel)",
   "language": "python",
   "name": "python3"
  },
  "language_info": {
   "codemirror_mode": {
    "name": "ipython",
    "version": 3
   },
   "file_extension": ".py",
   "mimetype": "text/x-python",
   "name": "python",
   "nbconvert_exporter": "python",
   "pygments_lexer": "ipython3",
   "version": "3.11.4"
  }
 },
 "nbformat": 4,
 "nbformat_minor": 5
}
